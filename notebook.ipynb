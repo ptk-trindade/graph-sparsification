{
 "cells": [
  {
   "cell_type": "code",
   "execution_count": null,
   "metadata": {},
   "outputs": [],
   "source": [
    "class Graph:\n",
    "    pass"
   ]
  },
  {
   "cell_type": "code",
   "execution_count": null,
   "metadata": {},
   "outputs": [],
   "source": []
  },
  {
   "cell_type": "code",
   "execution_count": null,
   "metadata": {},
   "outputs": [],
   "source": [
    "from scipy.stats import spearmanr\n",
    "\n",
    "class EdgeWeight:\n",
    "    weight = {} # map[[2]int]float64\n",
    "\n",
    "    @classmethod\n",
    "    def get_key(node1 :int, node2 :int) -> tuple :\n",
    "        if node1 < node2:\n",
    "\t\t    return (node1, node2)\n",
    "        return (node2, node1)\n",
    "\n",
    "\n",
    "    def add_weight(self, node1 :int, node2 :int, importance :float):\n",
    "\t    self.weight[self.get_key(node1, node2)] += importance\n",
    "\n",
    "\n",
    "    def compare_spearman(self, ew2 :EdgeWeight):\n",
    "        weight1 = []\n",
    "        weight2 = []\n",
    "        for key in self.weight:\n",
    "            weight1.append(self.weight[key])\n",
    "            weight2.append(ew2.weight[key])\n",
    "\n",
    "        # Compute Spearman correlation using scipy\n",
    "        rs, p = spearmanr(weight1, weight2)\n",
    "        return rs, p\n",
    "\n",
    "    def compare_jaccard(self, ew2, top :float):\n",
    "        edges1 = sorted(self.weight.keys(), key=lambda k: self.weight[k], reverse=True)\n",
    "        edges2 = sorted(ew2.weight.keys(), key=lambda k: ew2.weight[k], reverse=True)\n",
    "\n",
    "        # Get the top edges\n",
    "        top_n1 = int(top * len(edges1))\n",
    "        top_n2 = int(top * len(edges2))\n",
    "\n",
    "        top_edges1 = {edge: self.weight[edge] for edge in edges1[:top_n1]}\n",
    "        top_edges2 = {edge: ew2.weight[edge] for edge in edges2[:top_n2]}\n",
    "\n",
    "        # Get the intersection\n",
    "        intersection = len(set(top_edges1.keys()) & set(top_edges2.keys()))\n",
    "\n",
    "        return intersection / (len(top_edges1) + len(top_edges2) - intersection)\n"
   ]
  },
  {
   "cell_type": "code",
   "execution_count": null,
   "metadata": {},
   "outputs": [],
   "source": []
  }
 ],
 "metadata": {
  "language_info": {
   "name": "python"
  }
 },
 "nbformat": 4,
 "nbformat_minor": 2
}
