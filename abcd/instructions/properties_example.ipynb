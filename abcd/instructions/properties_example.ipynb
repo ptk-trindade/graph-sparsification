{
 "cells": [
  {
   "cell_type": "code",
   "execution_count": null,
   "metadata": {},
   "outputs": [],
   "source": [
    "import numpy as np\n",
    "import pandas as pd\n",
    "import pickle\n",
    "import seaborn as sns\n",
    "import matplotlib.pyplot as plt"
   ]
  },
  {
   "cell_type": "code",
   "execution_count": null,
   "metadata": {},
   "outputs": [],
   "source": [
    "names = ['algo','avg_tr','tr','ec_mu','ec_std','sp_mu','sp_std','gc_min','gc_mu','gc_std','gc_max']\n",
    "D = pd.read_csv('100k.stats', names=names)\n",
    "fn = open('100k_D2_5_noQ_different.pkl', 'wb') \n",
    "pickle.dump(D, fn)"
   ]
  },
  {
   "cell_type": "code",
   "execution_count": null,
   "metadata": {},
   "outputs": [],
   "source": [
    "def plotIt(D):\n",
    "    fig = plt.figure(figsize=(10,10))\n",
    "    #title = fig.suptitle(\"Some graph stats\", fontsize=14)\n",
    "    fig.subplots_adjust(wspace=0.5)\n",
    "\n",
    "    ax1 = fig.add_subplot(2,2,1)\n",
    "    ax1.set_title(\"Clustering coefficient\")\n",
    "    sns.boxplot(y='avg_tr', x='algo', data=D, palette=\"colorblind\",ax=ax1)\n",
    "    ax1.set_xlabel(\"\")\n",
    "    ax1.set_ylabel(\"coefficient\")\n",
    "    \n",
    "    ax2 = fig.add_subplot(2,2,2)\n",
    "    ax2.set_title(\"Eigenvector centrality\")\n",
    "    sns.boxplot(y='ec_mu', x='algo', data=D, palette=\"colorblind\",ax=ax2)\n",
    "    ax2.set_xlabel(\"\")\n",
    "    ax2.set_ylabel(\"centrality\")\n",
    "    \n",
    "    ax3 = fig.add_subplot(2,2,3)\n",
    "    ax3.set_title(\"Graph transitivity\")\n",
    "    sns.boxplot(y='tr', x='algo', data=D, palette=\"colorblind\",ax=ax3)\n",
    "    ax3.set_xlabel(\"Algorithm (LFR or variation of ABCD)\")\n",
    "    ax3.set_ylabel(\"transitivity\")\n",
    "    \n",
    "    \n",
    "    ax4 = fig.add_subplot(2,2,4)\n",
    "    ax4.set_title(\"Mean short path\")\n",
    "    sns.boxplot(y='sp_mu', x='algo', data=D, palette=\"colorblind\",ax=ax4);\n",
    "    ax4.set_xlabel(\"Algorithm (LFR or variation of ABCD)\")\n",
    "    ax4.set_ylabel(\"path length\")"
   ]
  },
  {
   "cell_type": "code",
   "execution_count": null,
   "metadata": {},
   "outputs": [],
   "source": [
    "fn = open('100k_D2_5_noQ_different.pkl', 'rb') \n",
    "D = pickle.load(fn)\n",
    "D.groupby(by='algo').mean()"
   ]
  },
  {
   "cell_type": "code",
   "execution_count": null,
   "metadata": {},
   "outputs": [],
   "source": [
    "plotIt(D)"
   ]
  }
 ],
 "metadata": {
  "kernelspec": {
   "display_name": "Python 3",
   "language": "python",
   "name": "python3"
  },
  "language_info": {
   "codemirror_mode": {
    "name": "ipython",
    "version": 3
   },
   "file_extension": ".py",
   "mimetype": "text/x-python",
   "name": "python",
   "nbconvert_exporter": "python",
   "pygments_lexer": "ipython3",
   "version": "3.6.5"
  }
 },
 "nbformat": 4,
 "nbformat_minor": 2
}
