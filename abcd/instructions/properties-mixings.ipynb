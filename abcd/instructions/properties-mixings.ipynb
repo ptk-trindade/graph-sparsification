{
 "cells": [
  {
   "cell_type": "code",
   "execution_count": null,
   "metadata": {},
   "outputs": [],
   "source": [
    "import numpy as np\n",
    "import pandas as pd\n",
    "import matplotlib.pyplot as plt\n",
    "from sklearn.linear_model import LinearRegression\n",
    "import igraph as ig"
   ]
  },
  {
   "cell_type": "code",
   "execution_count": null,
   "metadata": {},
   "outputs": [],
   "source": [
    "def getDF():\n",
    "    ## make the vertex and communities 0-based\n",
    "    g = ig.Graph.Read_Ncol('./network.dat', directed=False)\n",
    "    c = pd.read_csv('./community.dat',sep='\\t',header=None)[1].tolist()\n",
    "    ix = [int(x)-1 for x in g.vs['name']]\n",
    "    comm = [c[i]-1 for i in ix]\n",
    "    g.vs['comm'] = comm\n",
    "    g.simplify();\n",
    "\n",
    "    g.vs['deg'] = g.degree()\n",
    "    L = list()\n",
    "    for c in np.arange(0,np.max(g.vs['comm'])+1,1):\n",
    "        sg = g.subgraph([v for v in g.vs if v['comm']==c])\n",
    "\n",
    "        L.append([sg.vcount(),sg.ecount(),np.mean(sg.degree()),np.std(sg.degree()),sum(sg.vs['deg'])])\n",
    "    D = pd.DataFrame(data=L, columns=['nodes','edges','avg_deg','std_deg','sum_deg'])\n",
    "    D = D.sort_values(by='nodes')\n",
    "    D['mu'] = 1-2*D['edges']/D['sum_deg']\n",
    "    return D"
   ]
  },
  {
   "cell_type": "code",
   "execution_count": null,
   "metadata": {},
   "outputs": [],
   "source": [
    "def plotReg(D, title=''):\n",
    "    plt.scatter(D['nodes'],D['mu'],marker='.')\n",
    "    plt.xlabel('Community size')\n",
    "    plt.ylabel(r'Average empirical $\\mu$ value')\n",
    "    plt.title(title)\n",
    "    plt.hlines(.2,min(D['nodes']),max(D['nodes']),linestyles='dashed')\n",
    "    reg = LinearRegression().fit(D['nodes'].values.reshape(-1,1),D['mu'].values.reshape(-1,1) )        \n",
    "    print(reg.intercept_[0],reg.coef_[0][0],reg.predict(np.array(min(D['nodes'])).reshape(-1,1))[0][0],\n",
    "          reg.predict(np.array(max(D['nodes'])).reshape(-1,1))[0][0])\n",
    "    "
   ]
  },
  {
   "cell_type": "code",
   "execution_count": null,
   "metadata": {},
   "outputs": [],
   "source": [
    "plotReg(getDF())"
   ]
  }
 ],
 "metadata": {
  "kernelspec": {
   "display_name": "Python 3",
   "language": "python",
   "name": "python3"
  },
  "language_info": {
   "codemirror_mode": {
    "name": "ipython",
    "version": 3
   },
   "file_extension": ".py",
   "mimetype": "text/x-python",
   "name": "python",
   "nbconvert_exporter": "python",
   "pygments_lexer": "ipython3",
   "version": "3.6.5"
  }
 },
 "nbformat": 4,
 "nbformat_minor": 2
}
